{
 "cells": [
  {
   "cell_type": "code",
   "execution_count": 11,
   "id": "cbc9e916-65e1-45c4-87fb-192b40fe8192",
   "metadata": {},
   "outputs": [],
   "source": [
    "class SimpleStorage:\n",
    "    def __init__(self):\n",
    "        self.value = int(input(\"input number: \"))\n",
    "    \n",
    "    def increment(self):\n",
    "        self.value += 1\n",
    "        print(f'Value incremented to: {self.value}')\n",
    "        \n",
    "    def decrement(self):\n",
    "        if self.value > 0:\n",
    "            self.value -= 1\n",
    "            print(f'Value decremented to: {self.value}')\n",
    "        else:\n",
    "            print('Value is already at the minimum and cannot be decremented')\n",
    "            \n",
    "    def read_value(self):\n",
    "        print(f'Current Value: {self.value}')"
   ]
  },
  {
   "cell_type": "code",
   "execution_count": 12,
   "id": "96233735-ff11-4ad6-a3c4-4c78a76cd3dd",
   "metadata": {},
   "outputs": [
    {
     "name": "stdin",
     "output_type": "stream",
     "text": [
      "input number:  10\n"
     ]
    },
    {
     "name": "stdout",
     "output_type": "stream",
     "text": [
      "Current Value: 10\n",
      "Value incremented to: 11\n",
      "Value decremented to: 10\n"
     ]
    }
   ],
   "source": [
    "if __name__ == '__main__':\n",
    "    storage = SimpleStorage()\n",
    "    \n",
    "    storage.read_value()\n",
    "    storage.increment()\n",
    "    storage.decrement()"
   ]
  },
  {
   "cell_type": "code",
   "execution_count": 14,
   "id": "44a098b3-47b4-42e7-a287-0bf845585bb0",
   "metadata": {},
   "outputs": [
    {
     "name": "stdin",
     "output_type": "stream",
     "text": [
      "input number:  -1\n"
     ]
    },
    {
     "name": "stdout",
     "output_type": "stream",
     "text": [
      "Current Value: -1\n",
      "Value incremented to: 0\n",
      "Value is already at the minimum and cannot be decremented\n"
     ]
    }
   ],
   "source": [
    "if __name__ == '__main__':\n",
    "    storage = SimpleStorage()\n",
    "    \n",
    "    storage.read_value()\n",
    "    storage.increment()\n",
    "    storage.decrement()"
   ]
  },
  {
   "cell_type": "code",
   "execution_count": null,
   "id": "95173537-0f13-4e58-87a0-a97f4322698a",
   "metadata": {},
   "outputs": [],
   "source": []
  }
 ],
 "metadata": {
  "kernelspec": {
   "display_name": "Python 3 (ipykernel)",
   "language": "python",
   "name": "python3"
  },
  "language_info": {
   "codemirror_mode": {
    "name": "ipython",
    "version": 3
   },
   "file_extension": ".py",
   "mimetype": "text/x-python",
   "name": "python",
   "nbconvert_exporter": "python",
   "pygments_lexer": "ipython3",
   "version": "3.9.12"
  }
 },
 "nbformat": 4,
 "nbformat_minor": 5
}
