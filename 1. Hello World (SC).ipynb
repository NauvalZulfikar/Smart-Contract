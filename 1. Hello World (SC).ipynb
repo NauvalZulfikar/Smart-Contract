{
 "cells": [
  {
   "cell_type": "code",
   "execution_count": 1,
   "id": "a5398912-3b59-4898-a0a1-66cc4fbffa56",
   "metadata": {},
   "outputs": [
    {
     "name": "stdout",
     "output_type": "stream",
     "text": [
      "Hello, world!\n"
     ]
    }
   ],
   "source": [
    "def say_hello():\n",
    "    \"\"\"\n",
    "    Simple function to print \"Hello, world!\"\n",
    "    \"\"\"\n",
    "    print(\"Hello, world!\")\n",
    "\n",
    "# Call the function\n",
    "if __name__ == \"__main__\":\n",
    "    say_hello()"
   ]
  },
  {
   "cell_type": "code",
   "execution_count": null,
   "id": "2a1a9989-8437-49cb-83db-a3720d251456",
   "metadata": {},
   "outputs": [],
   "source": []
  }
 ],
 "metadata": {
  "kernelspec": {
   "display_name": "Python 3 (ipykernel)",
   "language": "python",
   "name": "python3"
  },
  "language_info": {
   "codemirror_mode": {
    "name": "ipython",
    "version": 3
   },
   "file_extension": ".py",
   "mimetype": "text/x-python",
   "name": "python",
   "nbconvert_exporter": "python",
   "pygments_lexer": "ipython3",
   "version": "3.9.12"
  }
 },
 "nbformat": 4,
 "nbformat_minor": 5
}
